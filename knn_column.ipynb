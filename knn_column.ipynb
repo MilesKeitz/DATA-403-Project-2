{
 "cells": [
  {
   "cell_type": "code",
   "execution_count": 1,
   "id": "2d3d7a4a",
   "metadata": {},
   "outputs": [],
   "source": [
    "import numpy as np\n",
    "import pandas as pd\n",
    "from sklearn.neighbors import NearestNeighbors\n",
    "from sklearn.preprocessing import StandardScaler\n",
    "\n",
    "# Read the cleaned data\n",
    "apps = pd.read_csv('data/apps_all_background.csv')\n",
    "\n",
    "# Extract the features for KNN\n",
    "knn_features = ['EXT_SOURCE_1', 'EXT_SOURCE_2', 'EXT_SOURCE_3', 'credit_annuity_ratio']\n",
    "X = apps[knn_features].copy()\n",
    "\n",
    "# Standardize the features\n",
    "scaler = StandardScaler()\n",
    "X_scaled = scaler.fit_transform(X)\n",
    "\n",
    "# Initialize KNN with 501 neighbors (500 + itself)\n",
    "knn = NearestNeighbors(n_neighbors=501, metric='euclidean', n_jobs=-1)\n",
    "knn.fit(X_scaled)\n",
    "\n",
    "# Find neighbors for all points\n",
    "distances, indices = knn.kneighbors(X_scaled)\n",
    "\n",
    "# Initialize column\n",
    "neighbors_target_mean_500 = np.zeros(len(apps))\n",
    "\n",
    "for i in range(len(apps)):\n",
    "    # Get the indices of the 500 nearest neighbors (excluding itself at index 0)\n",
    "    neighbor_indices = indices[i, 1:]  # Skip the first one (itself)\n",
    "    \n",
    "    # Get the TARGET values of these neighbors\n",
    "    neighbor_targets = apps.iloc[neighbor_indices]['TARGET'].values\n",
    "    \n",
    "    # Calculate the mean\n",
    "    neighbors_target_mean_500[i] = neighbor_targets.mean()\n",
    "\n",
    "# Add the new feature to the dataframe\n",
    "apps['neighbors_target_mean_500'] = neighbors_target_mean_500\n",
    "apps_knn = apps[['SK_ID_CURR', 'neighbors_target_mean_500']]\n",
    "\n",
    "apps_knn.to_csv('data/apps_knn.csv', index=False)"
   ]
  },
  {
   "cell_type": "code",
   "execution_count": 2,
   "id": "30543996",
   "metadata": {},
   "outputs": [
    {
     "name": "stdout",
     "output_type": "stream",
     "text": [
      "\n",
      "KNN feature statistics:\n",
      "count    307511.000000\n",
      "mean          0.080583\n",
      "std           0.064068\n",
      "min           0.000000\n",
      "25%           0.034000\n",
      "50%           0.060000\n",
      "75%           0.106000\n",
      "max           0.456000\n",
      "Name: neighbors_target_mean_500, dtype: float64\n",
      "\n",
      "Correlation with TARGET: 0.2438\n",
      "\n",
      "Sample of data with new feature:\n",
      "   TARGET  EXT_SOURCE_1  EXT_SOURCE_2  EXT_SOURCE_3  credit_annuity_ratio  \\\n",
      "0       0      0.691403      0.790829      0.591977             20.721897   \n",
      "1       0      0.571890      0.776489      0.367291             26.354558   \n",
      "2       0      0.636020      0.472090      0.676993             34.061050   \n",
      "3       0      0.358775      0.358775      0.358775             15.279149   \n",
      "4       1      0.122237      0.384375      0.629674             20.559211   \n",
      "5       0      0.390882      0.572610      0.209155             36.364166   \n",
      "6       0      0.716292      0.716292      0.716292             15.649736   \n",
      "7       0      0.721928      0.792596      0.651260             30.260238   \n",
      "8       0      0.362821      0.106115      0.619528             10.110959   \n",
      "9       0      0.736590      0.562203      0.771362             23.602719   \n",
      "\n",
      "   neighbors_target_mean_500  \n",
      "0                      0.012  \n",
      "1                      0.048  \n",
      "2                      0.032  \n",
      "3                      0.160  \n",
      "4                      0.112  \n",
      "5                      0.130  \n",
      "6                      0.042  \n",
      "7                      0.012  \n",
      "8                      0.102  \n",
      "9                      0.034  \n"
     ]
    }
   ],
   "source": [
    "print(\"\\nKNN feature statistics:\")\n",
    "print(apps['neighbors_target_mean_500'].describe())\n",
    "\n",
    "# Show correlation with TARGET\n",
    "print(f\"\\nCorrelation with TARGET: {apps['neighbors_target_mean_500'].corr(apps['TARGET']):.4f}\")\n",
    "\n",
    "# Display sample of results\n",
    "print(\"\\nSample of data with new feature:\")\n",
    "print(apps[['TARGET', 'EXT_SOURCE_1', 'EXT_SOURCE_2', 'EXT_SOURCE_3', \n",
    "            'credit_annuity_ratio', 'neighbors_target_mean_500']].head(10))"
   ]
  }
 ],
 "metadata": {
  "kernelspec": {
   "display_name": "base",
   "language": "python",
   "name": "python3"
  },
  "language_info": {
   "codemirror_mode": {
    "name": "ipython",
    "version": 3
   },
   "file_extension": ".py",
   "mimetype": "text/x-python",
   "name": "python",
   "nbconvert_exporter": "python",
   "pygments_lexer": "ipython3",
   "version": "3.12.4"
  }
 },
 "nbformat": 4,
 "nbformat_minor": 5
}
