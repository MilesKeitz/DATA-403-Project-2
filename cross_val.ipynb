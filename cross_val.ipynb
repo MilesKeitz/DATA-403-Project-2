{
 "cells": [
  {
   "cell_type": "code",
   "execution_count": 2,
   "id": "9a12f46e-c4ab-424d-aedc-f518766e048e",
   "metadata": {},
   "outputs": [],
   "source": [
    "import numpy as np\n",
    "from sklearn.preprocessing import StandardScaler\n",
    "from sklearn.decomposition import PCA"
   ]
  },
  {
   "cell_type": "markdown",
   "id": "4c97bb2a-0f1e-4071-ae1f-6f7fbd281af5",
   "metadata": {},
   "source": [
    "Test, Training, and Validation Sets\n",
    "- A completely randomly sampled split\n",
    " \t\t\t\t\t\t\t\n",
    "- A stratified split\n",
    " \t\t\t\t\t\t\t\n",
    "- A split that is chosen in a non-random way, so that your test and/or validation sets can be considered to more accurately represent the data that will be seen when the system is deployed\n"
   ]
  },
  {
   "cell_type": "code",
   "execution_count": 3,
   "id": "2c586901-4902-4802-9306-79c8b4945d02",
   "metadata": {},
   "outputs": [],
   "source": [
    "# 1. randomly samplef split\n",
    "def train_test_index_split_random(n, k, seed=42):\n",
    "    rng = np.random.default_rng(seed)\n",
    "    idx = np.arange(n)\n",
    "    rng.shuffle(idx)\n",
    "    folds = np.array_split(idx, k)\n",
    "    return [\n",
    "        (np.concatenate(folds[:i] + folds[i+1:]), folds[i])\n",
    "        for i in range(k)\n",
    "    ]"
   ]
  },
  {
   "cell_type": "code",
   "execution_count": 9,
   "id": "2259eee3-15c0-44d3-81f3-53af9570e3ee",
   "metadata": {},
   "outputs": [],
   "source": [
    "#2. stratified split\n",
    "def train_test_index_split_stratified(y, k, seed=42):\n",
    "    rng = np.random.default_rng(seed)\n",
    "    y = np.asarray(y)\n",
    "    folds = [[] for _ in range(k)]\n",
    "    # distribute classes evenly across folds\n",
    "    for cls in np.unique(y):\n",
    "        indexes = rng.permutation(np.where(y == cls)[0])\n",
    "        split = np.array_split(indexes, k)\n",
    "        for i in range(k):\n",
    "            folds[i].extend(split[i])\n",
    "    splits = []\n",
    "    for i in range(k):\n",
    "        test_idx = np.array(folds[i])\n",
    "        train_idx = np.concatenate([folds[j] for j in range(k) if j != i])\n",
    "        splits.append((train_idx, test_idx))\n",
    "    return splits"
   ]
  },
  {
   "cell_type": "code",
   "execution_count": 16,
   "id": "f4585962-fc7e-4d0f-91c8-b1156f9cc4f7",
   "metadata": {},
   "outputs": [],
   "source": [
    "import numpy as np\n",
    "\n",
    "def cross_validate(X, y, k=5, split=\"stratified\", seed=42):\n",
    "    X = np.asarray(X)\n",
    "    y = np.asarray(y)\n",
    "\n",
    "    # split method\n",
    "    if split == \"stratified\":\n",
    "        splits = train_test_index_split_stratified(y, k, seed)\n",
    "    elif split == \"random\":\n",
    "        splits = train_test_index_split_random(len(y), k, seed)\n",
    "    else:\n",
    "        raise ValueError(\"split type not found\")\n",
    "\n",
    "    results = []\n",
    "    for fold, (train_idx, test_idx) in enumerate(splits, 1):\n",
    "        X_train, X_test = X[train_idx], X[test_idx]\n",
    "        y_train, y_test = y[train_idx], y[test_idx]\n",
    "        if model_fn is None:\n",
    "            results.append({\n",
    "                \"fold\": fold,\n",
    "                \"train_idx\": train_idx, \"test_idx\": test_idx,\n",
    "                \"X_train\": X_train, \"y_train\": y_train,\n",
    "                \"X_test\": X_test, \"y_test\": y_test,\n",
    "            })\n",
    "        else:\n",
    "            # TODO: create model_fn for the three methods\n",
    "            metrics = model_fn(X_train, y_train, X_test, y_test)  \n",
    "            metrics[\"fold\"] = fold\n",
    "            results.append(metrics)\n",
    "    return results"
   ]
  },
  {
   "cell_type": "code",
   "execution_count": null,
   "id": "aabd7fbc-99f2-4895-a6fa-8599058244c2",
   "metadata": {},
   "outputs": [],
   "source": []
  }
 ],
 "metadata": {
  "kernelspec": {
   "display_name": "Python 3 (ipykernel)",
   "language": "python",
   "name": "python3"
  },
  "language_info": {
   "codemirror_mode": {
    "name": "ipython",
    "version": 3
   },
   "file_extension": ".py",
   "mimetype": "text/x-python",
   "name": "python",
   "nbconvert_exporter": "python",
   "pygments_lexer": "ipython3",
   "version": "3.13.6"
  }
 },
 "nbformat": 4,
 "nbformat_minor": 5
}
